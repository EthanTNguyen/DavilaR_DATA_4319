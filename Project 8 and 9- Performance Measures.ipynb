{
 "cells": [
  {
   "cell_type": "markdown",
   "metadata": {},
   "source": [
    "# Performance Measures\n",
    "\n",
    "## Evaluating a classification model\n",
    "\n",
    "### Model evaluation procedures:\n",
    "1. Train/test split: Split data into two versions and allow model to be trained and tested on different data.\n",
    "2. K-fold cross-validation: Create \"K\" train/test splits and find the average of the results.\n",
    "3. Confusion Matrix and metrics computation\n",
    "4. Adjusting the classification threshold\n",
    "5. ROC (Receiver Operating Characteristic) curve and AUC (Area Under the Curve)"
   ]
  },
  {
   "cell_type": "code",
   "execution_count": 1,
   "metadata": {},
   "outputs": [],
   "source": [
    "import pandas as pd\n",
    "from sklearn.model_selection import train_test_split\n",
    "from sklearn.linear_model import LogisticRegression\n",
    "from sklearn import metrics\n",
    "%matplotlib inline\n",
    "import matplotlib.pyplot as plt\n",
    "from sklearn.preprocessing import binarize\n",
    "from sklearn.model_selection import cross_val_score"
   ]
  },
  {
   "cell_type": "code",
   "execution_count": 2,
   "metadata": {},
   "outputs": [
    {
     "data": {
      "text/html": [
       "<div>\n",
       "<style scoped>\n",
       "    .dataframe tbody tr th:only-of-type {\n",
       "        vertical-align: middle;\n",
       "    }\n",
       "\n",
       "    .dataframe tbody tr th {\n",
       "        vertical-align: top;\n",
       "    }\n",
       "\n",
       "    .dataframe thead th {\n",
       "        text-align: right;\n",
       "    }\n",
       "</style>\n",
       "<table border=\"1\" class=\"dataframe\">\n",
       "  <thead>\n",
       "    <tr style=\"text-align: right;\">\n",
       "      <th></th>\n",
       "      <th>Pregnancies</th>\n",
       "      <th>Glucose</th>\n",
       "      <th>BloodPressure</th>\n",
       "      <th>SkinThickness</th>\n",
       "      <th>Insulin</th>\n",
       "      <th>BMI</th>\n",
       "      <th>DiabetesPedigreeFunction</th>\n",
       "      <th>Age</th>\n",
       "      <th>Outcome</th>\n",
       "    </tr>\n",
       "  </thead>\n",
       "  <tbody>\n",
       "    <tr>\n",
       "      <th>0</th>\n",
       "      <td>6</td>\n",
       "      <td>148</td>\n",
       "      <td>72</td>\n",
       "      <td>35</td>\n",
       "      <td>0</td>\n",
       "      <td>33.6</td>\n",
       "      <td>0.627</td>\n",
       "      <td>50</td>\n",
       "      <td>1</td>\n",
       "    </tr>\n",
       "    <tr>\n",
       "      <th>1</th>\n",
       "      <td>1</td>\n",
       "      <td>85</td>\n",
       "      <td>66</td>\n",
       "      <td>29</td>\n",
       "      <td>0</td>\n",
       "      <td>26.6</td>\n",
       "      <td>0.351</td>\n",
       "      <td>31</td>\n",
       "      <td>0</td>\n",
       "    </tr>\n",
       "    <tr>\n",
       "      <th>2</th>\n",
       "      <td>8</td>\n",
       "      <td>183</td>\n",
       "      <td>64</td>\n",
       "      <td>0</td>\n",
       "      <td>0</td>\n",
       "      <td>23.3</td>\n",
       "      <td>0.672</td>\n",
       "      <td>32</td>\n",
       "      <td>1</td>\n",
       "    </tr>\n",
       "    <tr>\n",
       "      <th>3</th>\n",
       "      <td>1</td>\n",
       "      <td>89</td>\n",
       "      <td>66</td>\n",
       "      <td>23</td>\n",
       "      <td>94</td>\n",
       "      <td>28.1</td>\n",
       "      <td>0.167</td>\n",
       "      <td>21</td>\n",
       "      <td>0</td>\n",
       "    </tr>\n",
       "    <tr>\n",
       "      <th>4</th>\n",
       "      <td>0</td>\n",
       "      <td>137</td>\n",
       "      <td>40</td>\n",
       "      <td>35</td>\n",
       "      <td>168</td>\n",
       "      <td>43.1</td>\n",
       "      <td>2.288</td>\n",
       "      <td>33</td>\n",
       "      <td>1</td>\n",
       "    </tr>\n",
       "    <tr>\n",
       "      <th>...</th>\n",
       "      <td>...</td>\n",
       "      <td>...</td>\n",
       "      <td>...</td>\n",
       "      <td>...</td>\n",
       "      <td>...</td>\n",
       "      <td>...</td>\n",
       "      <td>...</td>\n",
       "      <td>...</td>\n",
       "      <td>...</td>\n",
       "    </tr>\n",
       "    <tr>\n",
       "      <th>763</th>\n",
       "      <td>10</td>\n",
       "      <td>101</td>\n",
       "      <td>76</td>\n",
       "      <td>48</td>\n",
       "      <td>180</td>\n",
       "      <td>32.9</td>\n",
       "      <td>0.171</td>\n",
       "      <td>63</td>\n",
       "      <td>0</td>\n",
       "    </tr>\n",
       "    <tr>\n",
       "      <th>764</th>\n",
       "      <td>2</td>\n",
       "      <td>122</td>\n",
       "      <td>70</td>\n",
       "      <td>27</td>\n",
       "      <td>0</td>\n",
       "      <td>36.8</td>\n",
       "      <td>0.340</td>\n",
       "      <td>27</td>\n",
       "      <td>0</td>\n",
       "    </tr>\n",
       "    <tr>\n",
       "      <th>765</th>\n",
       "      <td>5</td>\n",
       "      <td>121</td>\n",
       "      <td>72</td>\n",
       "      <td>23</td>\n",
       "      <td>112</td>\n",
       "      <td>26.2</td>\n",
       "      <td>0.245</td>\n",
       "      <td>30</td>\n",
       "      <td>0</td>\n",
       "    </tr>\n",
       "    <tr>\n",
       "      <th>766</th>\n",
       "      <td>1</td>\n",
       "      <td>126</td>\n",
       "      <td>60</td>\n",
       "      <td>0</td>\n",
       "      <td>0</td>\n",
       "      <td>30.1</td>\n",
       "      <td>0.349</td>\n",
       "      <td>47</td>\n",
       "      <td>1</td>\n",
       "    </tr>\n",
       "    <tr>\n",
       "      <th>767</th>\n",
       "      <td>1</td>\n",
       "      <td>93</td>\n",
       "      <td>70</td>\n",
       "      <td>31</td>\n",
       "      <td>0</td>\n",
       "      <td>30.4</td>\n",
       "      <td>0.315</td>\n",
       "      <td>23</td>\n",
       "      <td>0</td>\n",
       "    </tr>\n",
       "  </tbody>\n",
       "</table>\n",
       "<p>768 rows × 9 columns</p>\n",
       "</div>"
      ],
      "text/plain": [
       "     Pregnancies  Glucose  BloodPressure  SkinThickness  Insulin   BMI  \\\n",
       "0              6      148             72             35        0  33.6   \n",
       "1              1       85             66             29        0  26.6   \n",
       "2              8      183             64              0        0  23.3   \n",
       "3              1       89             66             23       94  28.1   \n",
       "4              0      137             40             35      168  43.1   \n",
       "..           ...      ...            ...            ...      ...   ...   \n",
       "763           10      101             76             48      180  32.9   \n",
       "764            2      122             70             27        0  36.8   \n",
       "765            5      121             72             23      112  26.2   \n",
       "766            1      126             60              0        0  30.1   \n",
       "767            1       93             70             31        0  30.4   \n",
       "\n",
       "     DiabetesPedigreeFunction  Age  Outcome  \n",
       "0                       0.627   50        1  \n",
       "1                       0.351   31        0  \n",
       "2                       0.672   32        1  \n",
       "3                       0.167   21        0  \n",
       "4                       2.288   33        1  \n",
       "..                        ...  ...      ...  \n",
       "763                     0.171   63        0  \n",
       "764                     0.340   27        0  \n",
       "765                     0.245   30        0  \n",
       "766                     0.349   47        1  \n",
       "767                     0.315   23        0  \n",
       "\n",
       "[768 rows x 9 columns]"
      ]
     },
     "execution_count": 2,
     "metadata": {},
     "output_type": "execute_result"
    }
   ],
   "source": [
    "data = pd.read_csv(\"pima-diabetes.csv\")\n",
    "data"
   ]
  },
  {
   "cell_type": "markdown",
   "metadata": {},
   "source": [
    "<pre>______________________________________________________________________________________________________</pre>"
   ]
  },
  {
   "cell_type": "markdown",
   "metadata": {},
   "source": [
    "## 1. Data Preparation"
   ]
  },
  {
   "cell_type": "code",
   "execution_count": 3,
   "metadata": {},
   "outputs": [
    {
     "name": "stdout",
     "output_type": "stream",
     "text": [
      "     Pregnancies  Insulin   BMI  Age\n",
      "0              6        0  33.6   50\n",
      "1              1        0  26.6   31\n",
      "2              8        0  23.3   32\n",
      "3              1       94  28.1   21\n",
      "4              0      168  43.1   33\n",
      "..           ...      ...   ...  ...\n",
      "763           10      180  32.9   63\n",
      "764            2        0  36.8   27\n",
      "765            5      112  26.2   30\n",
      "766            1        0  30.1   47\n",
      "767            1        0  30.4   23\n",
      "\n",
      "[768 rows x 4 columns]\n",
      "0      1\n",
      "1      0\n",
      "2      1\n",
      "3      0\n",
      "4      1\n",
      "      ..\n",
      "763    0\n",
      "764    0\n",
      "765    0\n",
      "766    1\n",
      "767    0\n",
      "Name: Outcome, Length: 768, dtype: int64\n"
     ]
    }
   ],
   "source": [
    "# Assign values to X and y\n",
    "feature_cols = ['Pregnancies', 'Insulin', 'BMI', 'Age']\n",
    "X = data[feature_cols]\n",
    "print(X)\n",
    "y = data.Outcome\n",
    "print(y)"
   ]
  },
  {
   "cell_type": "code",
   "execution_count": 4,
   "metadata": {},
   "outputs": [],
   "source": [
    "# Split X and y into training and testing sets\n",
    "X_train, X_test, y_train, y_test = train_test_split(X, y, random_state=0)"
   ]
  },
  {
   "cell_type": "code",
   "execution_count": 5,
   "metadata": {},
   "outputs": [
    {
     "data": {
      "text/plain": [
       "LogisticRegression(solver='liblinear')"
      ]
     },
     "execution_count": 5,
     "metadata": {},
     "output_type": "execute_result"
    }
   ],
   "source": [
    "# Train a logistic regression model on the training set\n",
    "log_reg = LogisticRegression(solver='liblinear')\n",
    "log_reg.fit(X_train, y_train)"
   ]
  },
  {
   "cell_type": "code",
   "execution_count": 6,
   "metadata": {},
   "outputs": [],
   "source": [
    "# Make class predictions for the testing set\n",
    "y_pred_class = log_reg.predict(X_test)"
   ]
  },
  {
   "cell_type": "markdown",
   "metadata": {},
   "source": [
    "## 2. Classification accuracy: represent percentage of correct predictions"
   ]
  },
  {
   "cell_type": "code",
   "execution_count": 7,
   "metadata": {},
   "outputs": [
    {
     "name": "stdout",
     "output_type": "stream",
     "text": [
      "Classification accuracy: 69.27083333333334 %\n"
     ]
    }
   ],
   "source": [
    "# Calculate accuracy\n",
    "print(\"Classification accuracy:\", metrics.accuracy_score(y_test, y_pred_class)*100, \"%\")"
   ]
  },
  {
   "cell_type": "code",
   "execution_count": 8,
   "metadata": {},
   "outputs": [
    {
     "data": {
      "text/plain": [
       "0    130\n",
       "1     62\n",
       "Name: Outcome, dtype: int64"
      ]
     },
     "execution_count": 8,
     "metadata": {},
     "output_type": "execute_result"
    }
   ],
   "source": [
    "# Examine the class distribution of the testing set (using a Pandas Series method)\n",
    "y_test.value_counts()"
   ]
  },
  {
   "cell_type": "code",
   "execution_count": 9,
   "metadata": {},
   "outputs": [
    {
     "name": "stdout",
     "output_type": "stream",
     "text": [
      "Percentage of ones:  32.29166666666667 %\n"
     ]
    }
   ],
   "source": [
    "# Calculate the percentage of ones\n",
    "print(\"Percentage of ones: \", y_test.mean()*100, \"%\")"
   ]
  },
  {
   "cell_type": "code",
   "execution_count": 10,
   "metadata": {},
   "outputs": [
    {
     "name": "stdout",
     "output_type": "stream",
     "text": [
      "Percentage of zeros:  67.70833333333333 %\n"
     ]
    }
   ],
   "source": [
    "# Calculate the percentage of zeros\n",
    "print(\"Percentage of zeros: \", (1 - y_test.mean())*100, \"%\")"
   ]
  },
  {
   "cell_type": "code",
   "execution_count": 11,
   "metadata": {},
   "outputs": [
    {
     "name": "stdout",
     "output_type": "stream",
     "text": [
      "Null accuracy for binary classification:  67.70833333333333 %\n"
     ]
    }
   ],
   "source": [
    "# Calculate null accuracy (for binary classification problems coded as 0/1)\n",
    "print(\"Null accuracy for binary classification: \", max(y_test.mean(), 1 - y_test.mean())*100, \"%\")"
   ]
  },
  {
   "cell_type": "code",
   "execution_count": 12,
   "metadata": {},
   "outputs": [
    {
     "name": "stdout",
     "output_type": "stream",
     "text": [
      "Null accuracy for multi-class classification:  0    67.708333\n",
      "Name: Outcome, dtype: float64\n"
     ]
    }
   ],
   "source": [
    "# Calculate null accuracy (for multi-class classification problems)\n",
    "print(\"Null accuracy for multi-class classification: \", y_test.value_counts().head(1) / len(y_test)*100)"
   ]
  },
  {
   "cell_type": "code",
   "execution_count": 13,
   "metadata": {},
   "outputs": [
    {
     "name": "stdout",
     "output_type": "stream",
     "text": [
      "True: [1 0 0 1 0 0 1 1 0 0 1 1 0 0 0 0 1 0 0 0 1 1 0 0 0]\n",
      "Pred: [0 0 0 0 0 0 0 1 0 1 0 1 0 0 0 0 0 0 0 0 0 0 0 0 0]\n"
     ]
    }
   ],
   "source": [
    "# print the first 25 true and predicted responses\n",
    "print('True:', y_test.values[0:25])\n",
    "print('Pred:', y_pred_class[0:25])"
   ]
  },
  {
   "cell_type": "markdown",
   "metadata": {},
   "source": [
    "`Observation: Classification accuracy could be interpreted easily; however, it does not specify the underlying distribution of dependent variables. Moreover, it would not tell what types of errors that the classifier is making.`"
   ]
  },
  {
   "cell_type": "markdown",
   "metadata": {},
   "source": [
    "<pre>______________________________________________________________________________________________________</pre>"
   ]
  },
  {
   "cell_type": "markdown",
   "metadata": {},
   "source": [
    "## 3. Confusion Matrix"
   ]
  },
  {
   "cell_type": "code",
   "execution_count": 14,
   "metadata": {},
   "outputs": [
    {
     "name": "stdout",
     "output_type": "stream",
     "text": [
      "[[118  12]\n",
      " [ 47  15]]\n"
     ]
    }
   ],
   "source": [
    "# IMPORTANT: first argument is true values, second argument is predicted values\n",
    "print(metrics.confusion_matrix(y_test, y_pred_class))"
   ]
  },
  {
   "attachments": {
    "image.png": {
     "image/png": "[encoded data removed]"
    }
   },
   "cell_type": "markdown",
   "metadata": {},
   "source": [
    "![image.png](attachment:image.png)"
   ]
  },
  {
   "cell_type": "markdown",
   "metadata": {},
   "source": [
    "### Basic terminology\n",
    "\n",
    "True Positives (TP): we correctly predicted that they do have diabetes\n",
    "\n",
    "True Negatives (TN): we correctly predicted that they don't have diabetes\n",
    "\n",
    "False Positives (FP): we incorrectly predicted that they do have diabetes (a \"Type I error\")\n",
    "\n",
    "False Negatives (FN): we incorrectly predicted that they don't have diabetes (a \"Type II error\")"
   ]
  },
  {
   "cell_type": "code",
   "execution_count": 15,
   "metadata": {},
   "outputs": [],
   "source": [
    "confusion = metrics.confusion_matrix(y_test, y_pred_class)\n",
    "TP = confusion[1, 1]\n",
    "TN = confusion[0, 0]\n",
    "FP = confusion[0, 1]\n",
    "FN = confusion[1, 0]"
   ]
  },
  {
   "attachments": {
    "image.png": {
     "image/png": "[encoded data removed]"
    }
   },
   "cell_type": "markdown",
   "metadata": {},
   "source": [
    "![image.png](attachment:image.png)"
   ]
  },
  {
   "cell_type": "markdown",
   "metadata": {},
   "source": [
    "## Metrics Computation"
   ]
  },
  {
   "cell_type": "markdown",
   "metadata": {},
   "source": [
    "### a. Classification Accuracy: an overall determination of classifier correctness"
   ]
  },
  {
   "cell_type": "code",
   "execution_count": 16,
   "metadata": {},
   "outputs": [
    {
     "name": "stdout",
     "output_type": "stream",
     "text": [
      "69.27083333333334 %\n",
      "69.27083333333334 %\n"
     ]
    }
   ],
   "source": [
    "print((TP + TN) / (TP + TN + FP + FN) * 100, \"%\")\n",
    "print(metrics.accuracy_score(y_test, y_pred_class)*100, \"%\")"
   ]
  },
  {
   "cell_type": "markdown",
   "metadata": {},
   "source": [
    "### b. Classification Error: the frequency of classifier mistakes"
   ]
  },
  {
   "cell_type": "code",
   "execution_count": 17,
   "metadata": {},
   "outputs": [
    {
     "name": "stdout",
     "output_type": "stream",
     "text": [
      "30.729166666666668 %\n",
      "30.729166666666664 %\n"
     ]
    }
   ],
   "source": [
    "print((FP + FN) / (TP + TN + FP + FN)*100, \"%\")\n",
    "print((1 - metrics.accuracy_score(y_test, y_pred_class))*100, \"%\")"
   ]
  },
  {
   "cell_type": "markdown",
   "metadata": {},
   "source": [
    "### c. Sensitivity: True positive rate of prediction (Recall score)"
   ]
  },
  {
   "cell_type": "code",
   "execution_count": 18,
   "metadata": {},
   "outputs": [
    {
     "name": "stdout",
     "output_type": "stream",
     "text": [
      "24.193548387096776 %\n",
      "24.193548387096776 %\n"
     ]
    }
   ],
   "source": [
    "print(TP / (TP + FN)*100, \"%\")\n",
    "print(metrics.recall_score(y_test, y_pred_class)*100, \"%\")"
   ]
  },
  {
   "cell_type": "markdown",
   "metadata": {},
   "source": [
    "### d. Specificity: How specific the classifier in prediction positive instances "
   ]
  },
  {
   "cell_type": "code",
   "execution_count": 19,
   "metadata": {},
   "outputs": [
    {
     "name": "stdout",
     "output_type": "stream",
     "text": [
      "90.76923076923077 %\n"
     ]
    }
   ],
   "source": [
    "print(TN / (TN + FP)*100, \"%\")"
   ]
  },
  {
   "cell_type": "markdown",
   "metadata": {},
   "source": [
    "### e. False positive rate of prediction"
   ]
  },
  {
   "cell_type": "code",
   "execution_count": 20,
   "metadata": {},
   "outputs": [
    {
     "name": "stdout",
     "output_type": "stream",
     "text": [
      "9.230769230769232 %\n"
     ]
    }
   ],
   "source": [
    "print(FP / (TN + FP)*100, \"%\")"
   ]
  },
  {
   "cell_type": "markdown",
   "metadata": {},
   "source": [
    "### f. Precision: Prediction correctness when a positive value is predicted (Precision score)"
   ]
  },
  {
   "cell_type": "code",
   "execution_count": 21,
   "metadata": {},
   "outputs": [
    {
     "name": "stdout",
     "output_type": "stream",
     "text": [
      "55.55555555555556 %\n",
      "55.55555555555556 %\n"
     ]
    }
   ],
   "source": [
    "print(TP / (TP + FP) * 100, \"%\")\n",
    "print(metrics.precision_score(y_test, y_pred_class)*100, \"%\")"
   ]
  },
  {
   "cell_type": "markdown",
   "metadata": {},
   "source": [
    "`Observation: Confusion matrix is useful to calculate variety of metrics and to handle more than two response classes`"
   ]
  },
  {
   "cell_type": "markdown",
   "metadata": {},
   "source": [
    "<pre>______________________________________________________________________________________________________</pre>"
   ]
  },
  {
   "cell_type": "markdown",
   "metadata": {},
   "source": [
    "## 4. Adjusting the classification threshold"
   ]
  },
  {
   "cell_type": "code",
   "execution_count": 22,
   "metadata": {},
   "outputs": [
    {
     "data": {
      "text/plain": [
       "array([0.36752429, 0.28356344, 0.28895886, 0.4141062 , 0.15896027,\n",
       "       0.17065156, 0.49889026, 0.51341541, 0.27678612, 0.67189438])"
      ]
     },
     "execution_count": 22,
     "metadata": {},
     "output_type": "execute_result"
    }
   ],
   "source": [
    "# Print the first 10 predicted probabilities for class 1\n",
    "log_reg.predict_proba(X_test)[0:10, 1]"
   ]
  },
  {
   "cell_type": "code",
   "execution_count": 23,
   "metadata": {},
   "outputs": [
    {
     "data": {
      "text/plain": [
       "array([0.36752429, 0.28356344, 0.28895886, 0.4141062 , 0.15896027,\n",
       "       0.17065156, 0.49889026, 0.51341541, 0.27678612, 0.67189438,\n",
       "       0.35755557, 0.74087965, 0.36050235, 0.23012363, 0.42654231,\n",
       "       0.19103515, 0.45763601, 0.1190141 , 0.43928953, 0.36961151,\n",
       "       0.44187989, 0.37611662, 0.19816022, 0.41677304, 0.15548281,\n",
       "       0.2531671 , 0.09743077, 0.69633712, 0.15358309, 0.2197836 ,\n",
       "       0.43094832, 0.34216058, 0.22396114, 0.38073543, 0.13342134,\n",
       "       0.38790216, 0.47049703, 0.16204743, 0.29548176, 0.30918161,\n",
       "       0.27299705, 0.38816583, 0.27353443, 0.28881041, 0.63471914,\n",
       "       0.02365251, 0.15820648, 0.23018375, 0.3484593 , 0.27580041,\n",
       "       0.33264104, 0.24880596, 0.74489512, 0.39001464, 0.41625545,\n",
       "       0.13575687, 0.18895376, 0.64777682, 0.18922131, 0.05685904,\n",
       "       0.63991547, 0.46636382, 0.1250972 , 0.26957602, 0.24919104,\n",
       "       0.30570396, 0.46376224, 0.20963095, 0.42847829, 0.40762264,\n",
       "       0.20169096, 0.27027066, 0.26255856, 0.57238263, 0.45467041,\n",
       "       0.27716152, 0.58001281, 0.41599488, 0.27276101, 0.34099223,\n",
       "       0.54626578, 0.37930723, 0.2992205 , 0.10059169, 0.32872602,\n",
       "       0.45101363, 0.16036979, 0.4896975 , 0.63230508, 0.40738404,\n",
       "       0.19794397, 0.19698021, 0.24463208, 0.11147185, 0.4158597 ,\n",
       "       0.21561856, 0.54124529, 0.48803602, 0.64652767, 0.33940658,\n",
       "       0.54263427, 0.16213824, 0.3778741 , 0.11311287, 0.34781987,\n",
       "       0.34042784, 0.1790985 , 0.21324812, 0.14710946, 0.23014102,\n",
       "       0.18404592, 0.52224649, 0.47099366, 0.28884248, 0.49325079,\n",
       "       0.41744473, 0.22915008, 0.27022911, 0.19243924, 0.7498713 ,\n",
       "       0.46500093, 0.6645454 , 0.42098599, 0.53564034, 0.16034702,\n",
       "       0.1435686 , 0.38142426, 0.33827314, 0.3630065 , 0.12842531,\n",
       "       0.28333693, 0.04005558, 0.18481139, 0.66716947, 0.46352874,\n",
       "       0.48715682, 0.19910794, 0.45861651, 0.23216721, 0.18369267,\n",
       "       0.26391994, 0.37492969, 0.12916506, 0.41413913, 0.42460858,\n",
       "       0.13832191, 0.20781694, 0.29477699, 0.15825099, 0.36016234,\n",
       "       0.23741449, 0.43350689, 0.20619881, 0.23162338, 0.61111541,\n",
       "       0.19731009, 0.80071498, 0.17808491, 0.36488735, 0.78618643,\n",
       "       0.44080614, 0.36559654, 0.11760138, 0.22843325, 0.47865069,\n",
       "       0.21320525, 0.51498521, 0.16122494, 0.23740119, 0.29374391,\n",
       "       0.16670048, 0.48716526, 0.29969894, 0.44651043, 0.50169902,\n",
       "       0.29246506, 0.61736228, 0.41593995, 0.25820945, 0.1741968 ,\n",
       "       0.33519541, 0.69606825, 0.32454368, 0.35730426, 0.2336947 ,\n",
       "       0.23738524, 0.38409318, 0.24691412, 0.27954552, 0.18501174,\n",
       "       0.2622362 , 0.27856926])"
      ]
     },
     "execution_count": 23,
     "metadata": {},
     "output_type": "execute_result"
    }
   ],
   "source": [
    "# Store the predicted probabilities for class 1\n",
    "y_pred_prob = log_reg.predict_proba(X_test)[:, 1]\n",
    "y_pred_prob"
   ]
  },
  {
   "cell_type": "code",
   "execution_count": 24,
   "metadata": {},
   "outputs": [
    {
     "data": {
      "text/plain": [
       "Text(0, 0.5, 'Frequency')"
      ]
     },
     "execution_count": 24,
     "metadata": {},
     "output_type": "execute_result"
    },
    {
     "data": {
      "image/png": "[encoded data removed]",
      "text/plain": [
       "<Figure size 432x288 with 1 Axes>"
      ]
     },
     "metadata": {},
     "output_type": "display_data"
    }
   ],
   "source": [
    "# Histogram of predicted probabilities\n",
    "plt.hist(y_pred_prob, bins=8)\n",
    "plt.xlim(0, 1)\n",
    "plt.title('Histogram of predicted probabilities')\n",
    "plt.xlabel('Predicted probability of diabetes')\n",
    "plt.ylabel('Frequency')"
   ]
  },
  {
   "cell_type": "markdown",
   "metadata": {},
   "source": [
    "`Since the threshold for binary classifier is 0.5 by default, the decision of decreasing the threshold for predicting diabetes takes place in order to increase the sensitivity of the classifier.`"
   ]
  },
  {
   "cell_type": "code",
   "execution_count": 25,
   "metadata": {},
   "outputs": [
    {
     "data": {
      "text/plain": [
       "array([1., 0., 0., 1., 0., 0., 1., 1., 0., 1., 1., 1., 1., 0., 1., 0., 1.,\n",
       "       0., 1., 1., 1., 1., 0., 1., 0., 0., 0., 1., 0., 0., 1., 1., 0., 1.,\n",
       "       0., 1., 1., 0., 0., 1., 0., 1., 0., 0., 1., 0., 0., 0., 1., 0., 1.,\n",
       "       0., 1., 1., 1., 0., 0., 1., 0., 0., 1., 1., 0., 0., 0., 1., 1., 0.,\n",
       "       1., 1., 0., 0., 0., 1., 1., 0., 1., 1., 0., 1., 1., 1., 0., 0., 1.,\n",
       "       1., 0., 1., 1., 1., 0., 0., 0., 0., 1., 0., 1., 1., 1., 1., 1., 0.,\n",
       "       1., 0., 1., 1., 0., 0., 0., 0., 0., 1., 1., 0., 1., 1., 0., 0., 0.,\n",
       "       1., 1., 1., 1., 1., 0., 0., 1., 1., 1., 0., 0., 0., 0., 1., 1., 1.,\n",
       "       0., 1., 0., 0., 0., 1., 0., 1., 1., 0., 0., 0., 0., 1., 0., 1., 0.,\n",
       "       0., 1., 0., 1., 0., 1., 1., 1., 1., 0., 0., 1., 0., 1., 0., 0., 0.,\n",
       "       0., 1., 0., 1., 1., 0., 1., 1., 0., 0., 1., 1., 1., 1., 0., 0., 1.,\n",
       "       0., 0., 0., 0., 0.])"
      ]
     },
     "execution_count": 25,
     "metadata": {},
     "output_type": "execute_result"
    }
   ],
   "source": [
    "# Predict diabetes if the predicted probability is greater than 0.3\n",
    "y_pred_class = binarize([y_pred_prob], threshold=0.3)[0]\n",
    "y_pred_class"
   ]
  },
  {
   "cell_type": "code",
   "execution_count": 26,
   "metadata": {},
   "outputs": [
    {
     "data": {
      "text/plain": [
       "array([0.36752429, 0.28356344, 0.28895886, 0.4141062 , 0.15896027,\n",
       "       0.17065156, 0.49889026, 0.51341541, 0.27678612, 0.67189438,\n",
       "       0.35755557, 0.74087965, 0.36050235, 0.23012363, 0.42654231,\n",
       "       0.19103515, 0.45763601, 0.1190141 , 0.43928953, 0.36961151,\n",
       "       0.44187989, 0.37611662, 0.19816022, 0.41677304, 0.15548281,\n",
       "       0.2531671 , 0.09743077, 0.69633712, 0.15358309, 0.2197836 ,\n",
       "       0.43094832, 0.34216058, 0.22396114, 0.38073543, 0.13342134,\n",
       "       0.38790216, 0.47049703, 0.16204743, 0.29548176, 0.30918161,\n",
       "       0.27299705, 0.38816583, 0.27353443, 0.28881041, 0.63471914,\n",
       "       0.02365251, 0.15820648, 0.23018375, 0.3484593 , 0.27580041,\n",
       "       0.33264104, 0.24880596, 0.74489512, 0.39001464, 0.41625545,\n",
       "       0.13575687, 0.18895376, 0.64777682, 0.18922131, 0.05685904,\n",
       "       0.63991547, 0.46636382, 0.1250972 , 0.26957602, 0.24919104,\n",
       "       0.30570396, 0.46376224, 0.20963095, 0.42847829, 0.40762264,\n",
       "       0.20169096, 0.27027066, 0.26255856, 0.57238263, 0.45467041,\n",
       "       0.27716152, 0.58001281, 0.41599488, 0.27276101, 0.34099223,\n",
       "       0.54626578, 0.37930723, 0.2992205 , 0.10059169, 0.32872602,\n",
       "       0.45101363, 0.16036979, 0.4896975 , 0.63230508, 0.40738404,\n",
       "       0.19794397, 0.19698021, 0.24463208, 0.11147185, 0.4158597 ,\n",
       "       0.21561856, 0.54124529, 0.48803602, 0.64652767, 0.33940658,\n",
       "       0.54263427, 0.16213824, 0.3778741 , 0.11311287, 0.34781987,\n",
       "       0.34042784, 0.1790985 , 0.21324812, 0.14710946, 0.23014102,\n",
       "       0.18404592, 0.52224649, 0.47099366, 0.28884248, 0.49325079,\n",
       "       0.41744473, 0.22915008, 0.27022911, 0.19243924, 0.7498713 ,\n",
       "       0.46500093, 0.6645454 , 0.42098599, 0.53564034, 0.16034702,\n",
       "       0.1435686 , 0.38142426, 0.33827314, 0.3630065 , 0.12842531,\n",
       "       0.28333693, 0.04005558, 0.18481139, 0.66716947, 0.46352874,\n",
       "       0.48715682, 0.19910794, 0.45861651, 0.23216721, 0.18369267,\n",
       "       0.26391994, 0.37492969, 0.12916506, 0.41413913, 0.42460858,\n",
       "       0.13832191, 0.20781694, 0.29477699, 0.15825099, 0.36016234,\n",
       "       0.23741449, 0.43350689, 0.20619881, 0.23162338, 0.61111541,\n",
       "       0.19731009, 0.80071498, 0.17808491, 0.36488735, 0.78618643,\n",
       "       0.44080614, 0.36559654, 0.11760138, 0.22843325, 0.47865069,\n",
       "       0.21320525, 0.51498521, 0.16122494, 0.23740119, 0.29374391,\n",
       "       0.16670048, 0.48716526, 0.29969894, 0.44651043, 0.50169902,\n",
       "       0.29246506, 0.61736228, 0.41593995, 0.25820945, 0.1741968 ,\n",
       "       0.33519541, 0.69606825, 0.32454368, 0.35730426, 0.2336947 ,\n",
       "       0.23738524, 0.38409318, 0.24691412, 0.27954552, 0.18501174,\n",
       "       0.2622362 , 0.27856926])"
      ]
     },
     "execution_count": 26,
     "metadata": {},
     "output_type": "execute_result"
    }
   ],
   "source": [
    "# Print the predicted probabilities\n",
    "y_pred_prob"
   ]
  },
  {
   "cell_type": "markdown",
   "metadata": {},
   "source": [
    "### Comparison of confusion matrices"
   ]
  },
  {
   "cell_type": "code",
   "execution_count": 27,
   "metadata": {},
   "outputs": [
    {
     "name": "stdout",
     "output_type": "stream",
     "text": [
      "[[118  12]\n",
      " [ 47  15]]\n"
     ]
    }
   ],
   "source": [
    "# Previous confusion matrix with threshold of 0.5 (Binary classifier)\n",
    "print(confusion)"
   ]
  },
  {
   "cell_type": "code",
   "execution_count": 28,
   "metadata": {},
   "outputs": [
    {
     "name": "stdout",
     "output_type": "stream",
     "text": [
      "[[80 50]\n",
      " [16 46]]\n"
     ]
    }
   ],
   "source": [
    "# Updated confusion matrix with threshold of 0.3\n",
    "print(metrics.confusion_matrix(y_test, y_pred_class))"
   ]
  },
  {
   "cell_type": "markdown",
   "metadata": {},
   "source": [
    "<pre>______________________________________________________________________________________________________</pre>"
   ]
  },
  {
   "cell_type": "markdown",
   "metadata": {},
   "source": [
    "## 5. ROC (Receiver Operating Characteristic) curve and AUC (Area Under the Curve)"
   ]
  },
  {
   "cell_type": "code",
   "execution_count": 29,
   "metadata": {},
   "outputs": [
    {
     "data": {
      "image/png": "[encoded data removed]",
      "text/plain": [
       "<Figure size 432x288 with 1 Axes>"
      ]
     },
     "metadata": {},
     "output_type": "display_data"
    }
   ],
   "source": [
    "fpr, tpr, thresholds = metrics.roc_curve(y_test, y_pred_prob)\n",
    "plt.plot(fpr, tpr)\n",
    "plt.xlim([0.0, 1.0])\n",
    "plt.ylim([0.0, 1.0])\n",
    "plt.title('ROC curve for diabetes classifier')\n",
    "plt.xlabel('False Positive Rate (1 - Specificity)')\n",
    "plt.ylabel('True Positive Rate (Sensitivity)')\n",
    "plt.grid(True)"
   ]
  },
  {
   "cell_type": "code",
   "execution_count": 30,
   "metadata": {},
   "outputs": [],
   "source": [
    "# Function that accepts a threshold and prints sensitivity and specificity\n",
    "def evaluate_threshold(threshold):\n",
    "    print('Sensitivity:', (tpr[thresholds > threshold][-1])*100, \"%\")\n",
    "    print('Specificity:', (1 - fpr[thresholds > threshold][-1])*100, \"%\")"
   ]
  },
  {
   "cell_type": "code",
   "execution_count": 31,
   "metadata": {},
   "outputs": [
    {
     "name": "stdout",
     "output_type": "stream",
     "text": [
      "Sensitivity: 24.193548387096776 %\n",
      "Specificity: 90.76923076923077 %\n"
     ]
    }
   ],
   "source": [
    "evaluate_threshold(0.5)"
   ]
  },
  {
   "cell_type": "code",
   "execution_count": 32,
   "metadata": {},
   "outputs": [
    {
     "name": "stdout",
     "output_type": "stream",
     "text": [
      "Sensitivity: 72.58064516129032 %\n",
      "Specificity: 61.53846153846154 %\n"
     ]
    }
   ],
   "source": [
    "evaluate_threshold(0.3)"
   ]
  },
  {
   "cell_type": "code",
   "execution_count": 33,
   "metadata": {},
   "outputs": [
    {
     "name": "stdout",
     "output_type": "stream",
     "text": [
      "AUC:  72.45657568238212 %\n"
     ]
    }
   ],
   "source": [
    "# AUC is the percentage of the ROC plot that is underneath the curve:\n",
    "print(\"AUC: \", (metrics.roc_auc_score(y_test, y_pred_prob))*100, \"%\")"
   ]
  },
  {
   "cell_type": "code",
   "execution_count": 34,
   "metadata": {},
   "outputs": [
    {
     "name": "stdout",
     "output_type": "stream",
     "text": [
      "Cross-validated AUC:  73.78233618233618 %\n"
     ]
    }
   ],
   "source": [
    "# Calculate cross-validated AUC\n",
    "print(\"Cross-validated AUC: \", (cross_val_score(log_reg, X, y, cv=10, scoring='roc_auc').mean())*100, \"%\")"
   ]
  },
  {
   "cell_type": "markdown",
   "metadata": {},
   "source": [
    "`Observation: ROC and AUC are the techniques at their best of use that does not require a setup of classification threshold. They are useful even if there is high class imbalance`"
   ]
  }
 ],
 "metadata": {
  "kernelspec": {
   "display_name": "Python 3",
   "language": "python",
   "name": "python3"
  },
  "language_info": {
   "codemirror_mode": {
    "name": "ipython",
    "version": 3
   },
   "file_extension": ".py",
   "mimetype": "text/x-python",
   "name": "python",
   "nbconvert_exporter": "python",
   "pygments_lexer": "ipython3",
   "version": "3.6.5"
  }
 },
 "nbformat": 4,
 "nbformat_minor": 2
}
