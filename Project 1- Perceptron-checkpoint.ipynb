{
 "cells": [
  {
   "cell_type": "markdown",
   "metadata": {},
   "source": [
    "# Perceptron\n",
    "\n",
    "## Implementing a Perceptron using numpy "
   ]
  },
  {
   "cell_type": "markdown",
   "metadata": {},
   "source": [
    "<pre>______________________________________________________________________________________________________</pre>\n",
    "\n",
    "### TOC\n",
    "<a id='TOC'></a>\n",
    "<br>[1.](#1.) <strong>Dataset Preparation</strong>\n",
    "<br>..... Import libraries for numpy and plots\n",
    "<br>..... Read in and visualize data\n",
    "<br>[2.](#2.) <strong>Perceptron Implementation</strong>\n",
    "<br>..... Implement class Perceptron with its functions\n",
    "<br>..... Test dataset's accuracy\n",
    "<br>..... Visualization\n",
    "<pre>_____________________________________________________________________________________________________</pre>"
   ]
  },
  {
   "cell_type": "markdown",
   "metadata": {},
   "source": [
    "<a id='1.'></a>\n",
    "## 1. Dataset Preparation\n",
    "[TOC](#TOC)"
   ]
  },
  {
   "cell_type": "code",
   "execution_count": 1,
   "metadata": {},
   "outputs": [],
   "source": [
    "# Import numpy, standard library, and plot module.\n",
    "import numpy as np\n",
    "import os\n",
    "import matplotlib.pyplot as plt\n",
    "\n",
    "# Showing plots in Jupyter Notebook\n",
    "%matplotlib inline"
   ]
  },
  {
   "cell_type": "code",
   "execution_count": 2,
   "metadata": {},
   "outputs": [
    {
     "data": {
      "text/plain": [
       "array([[ 0.77, -1.14,  0.  ],\n",
       "       [-0.33,  1.44,  0.  ],\n",
       "       [ 0.91, -3.07,  0.  ],\n",
       "       [-0.37, -1.91,  0.  ],\n",
       "       [-1.84, -1.13,  0.  ],\n",
       "       [-1.5 ,  0.34,  0.  ],\n",
       "       [-0.63, -1.53,  0.  ],\n",
       "       [-1.08, -1.23,  0.  ],\n",
       "       [ 0.39, -1.99,  0.  ],\n",
       "       [-1.26, -2.9 ,  0.  ],\n",
       "       [-5.27, -0.78,  0.  ],\n",
       "       [-0.49, -2.74,  0.  ],\n",
       "       [ 1.48, -3.74,  0.  ],\n",
       "       [-1.64, -1.96,  0.  ],\n",
       "       [ 0.45,  0.36,  0.  ],\n",
       "       [-1.48, -1.17,  0.  ],\n",
       "       [-2.94, -4.47,  0.  ],\n",
       "       [-2.19, -1.48,  0.  ],\n",
       "       [ 0.02, -0.02,  0.  ],\n",
       "       [-2.24, -2.12,  0.  ],\n",
       "       [-3.17, -3.69,  0.  ],\n",
       "       [-4.09,  1.03,  0.  ],\n",
       "       [-2.41, -2.31,  0.  ],\n",
       "       [-3.45, -0.61,  0.  ],\n",
       "       [-3.96, -2.  ,  0.  ],\n",
       "       [-2.95, -1.16,  0.  ],\n",
       "       [-2.42, -3.35,  0.  ],\n",
       "       [-1.74, -1.1 ,  0.  ],\n",
       "       [-1.61, -1.28,  0.  ],\n",
       "       [-2.59, -2.21,  0.  ],\n",
       "       [-2.64, -2.2 ,  0.  ],\n",
       "       [-2.84, -4.12,  0.  ],\n",
       "       [-1.45, -2.26,  0.  ],\n",
       "       [-3.98, -1.05,  0.  ],\n",
       "       [-2.97, -1.63,  0.  ],\n",
       "       [-0.68, -1.52,  0.  ],\n",
       "       [-0.1 , -3.43,  0.  ],\n",
       "       [-1.14, -2.66,  0.  ],\n",
       "       [-2.92, -2.51,  0.  ],\n",
       "       [-2.14, -1.62,  0.  ],\n",
       "       [-3.33, -0.44,  0.  ],\n",
       "       [-1.05, -3.85,  0.  ],\n",
       "       [ 0.38,  0.95,  0.  ],\n",
       "       [-0.05, -1.95,  0.  ],\n",
       "       [-3.2 , -0.22,  0.  ],\n",
       "       [-2.26,  0.01,  0.  ],\n",
       "       [-1.41, -0.33,  0.  ],\n",
       "       [-1.2 , -0.71,  0.  ],\n",
       "       [-1.69,  0.8 ,  0.  ],\n",
       "       [-1.52, -1.14,  0.  ],\n",
       "       [ 3.88,  0.65,  1.  ],\n",
       "       [ 0.73,  2.97,  1.  ],\n",
       "       [ 0.83,  3.94,  1.  ],\n",
       "       [ 1.59,  1.25,  1.  ],\n",
       "       [ 3.92,  3.48,  1.  ],\n",
       "       [ 3.87,  2.91,  1.  ],\n",
       "       [ 1.14,  3.91,  1.  ],\n",
       "       [ 1.73,  2.8 ,  1.  ],\n",
       "       [ 2.95,  1.84,  1.  ],\n",
       "       [ 2.61,  2.92,  1.  ],\n",
       "       [ 2.38,  0.9 ,  1.  ],\n",
       "       [ 2.3 ,  3.33,  1.  ],\n",
       "       [ 1.31,  1.85,  1.  ],\n",
       "       [ 1.56,  3.85,  1.  ],\n",
       "       [ 2.67,  2.41,  1.  ],\n",
       "       [ 1.23,  2.54,  1.  ],\n",
       "       [ 1.33,  2.03,  1.  ],\n",
       "       [ 1.36,  2.68,  1.  ],\n",
       "       [ 2.58,  1.79,  1.  ],\n",
       "       [ 2.4 ,  0.91,  1.  ],\n",
       "       [ 0.51,  2.44,  1.  ],\n",
       "       [ 2.17,  2.64,  1.  ],\n",
       "       [ 4.38,  2.94,  1.  ],\n",
       "       [ 1.09,  3.12,  1.  ],\n",
       "       [ 0.68,  1.54,  1.  ],\n",
       "       [ 1.93,  3.71,  1.  ],\n",
       "       [ 1.26,  1.17,  1.  ],\n",
       "       [ 1.9 ,  1.34,  1.  ],\n",
       "       [ 3.13,  0.92,  1.  ],\n",
       "       [ 0.85,  1.56,  1.  ],\n",
       "       [ 1.5 ,  3.93,  1.  ],\n",
       "       [ 2.95,  2.09,  1.  ],\n",
       "       [ 0.77,  2.84,  1.  ],\n",
       "       [ 1.  ,  0.46,  1.  ],\n",
       "       [ 3.19,  2.32,  1.  ],\n",
       "       [ 2.92,  2.32,  1.  ],\n",
       "       [ 2.86,  1.35,  1.  ],\n",
       "       [ 0.97,  2.68,  1.  ],\n",
       "       [ 1.2 ,  1.31,  1.  ],\n",
       "       [ 1.54,  2.02,  1.  ],\n",
       "       [ 1.65,  0.63,  1.  ],\n",
       "       [ 1.36, -0.22,  1.  ],\n",
       "       [ 2.63,  0.4 ,  1.  ],\n",
       "       [ 0.9 ,  2.05,  1.  ],\n",
       "       [ 1.26,  3.54,  1.  ],\n",
       "       [ 0.71,  2.27,  1.  ],\n",
       "       [ 1.96,  0.83,  1.  ],\n",
       "       [ 2.52,  1.83,  1.  ],\n",
       "       [ 2.77,  2.82,  1.  ],\n",
       "       [ 4.16,  3.34,  1.  ]])"
      ]
     },
     "execution_count": 2,
     "metadata": {},
     "output_type": "execute_result"
    }
   ],
   "source": [
    "# Read in data and display\n",
    "data = np.genfromtxt('toy_dataset.txt', delimiter='\\t')\n",
    "data"
   ]
  },
  {
   "cell_type": "code",
   "execution_count": 3,
   "metadata": {},
   "outputs": [
    {
     "name": "stdout",
     "output_type": "stream",
     "text": [
      "[[ 0.77 -1.14]\n",
      " [-0.33  1.44]\n",
      " [ 0.91 -3.07]\n",
      " [-0.37 -1.91]\n",
      " [-1.84 -1.13]\n",
      " [-1.5   0.34]\n",
      " [-0.63 -1.53]\n",
      " [-1.08 -1.23]\n",
      " [ 0.39 -1.99]\n",
      " [-1.26 -2.9 ]\n",
      " [-5.27 -0.78]\n",
      " [-0.49 -2.74]\n",
      " [ 1.48 -3.74]\n",
      " [-1.64 -1.96]\n",
      " [ 0.45  0.36]\n",
      " [-1.48 -1.17]\n",
      " [-2.94 -4.47]\n",
      " [-2.19 -1.48]\n",
      " [ 0.02 -0.02]\n",
      " [-2.24 -2.12]\n",
      " [-3.17 -3.69]\n",
      " [-4.09  1.03]\n",
      " [-2.41 -2.31]\n",
      " [-3.45 -0.61]\n",
      " [-3.96 -2.  ]\n",
      " [-2.95 -1.16]\n",
      " [-2.42 -3.35]\n",
      " [-1.74 -1.1 ]\n",
      " [-1.61 -1.28]\n",
      " [-2.59 -2.21]\n",
      " [-2.64 -2.2 ]\n",
      " [-2.84 -4.12]\n",
      " [-1.45 -2.26]\n",
      " [-3.98 -1.05]\n",
      " [-2.97 -1.63]\n",
      " [-0.68 -1.52]\n",
      " [-0.1  -3.43]\n",
      " [-1.14 -2.66]\n",
      " [-2.92 -2.51]\n",
      " [-2.14 -1.62]\n",
      " [-3.33 -0.44]\n",
      " [-1.05 -3.85]\n",
      " [ 0.38  0.95]\n",
      " [-0.05 -1.95]\n",
      " [-3.2  -0.22]\n",
      " [-2.26  0.01]\n",
      " [-1.41 -0.33]\n",
      " [-1.2  -0.71]\n",
      " [-1.69  0.8 ]\n",
      " [-1.52 -1.14]\n",
      " [ 3.88  0.65]\n",
      " [ 0.73  2.97]\n",
      " [ 0.83  3.94]\n",
      " [ 1.59  1.25]\n",
      " [ 3.92  3.48]\n",
      " [ 3.87  2.91]\n",
      " [ 1.14  3.91]\n",
      " [ 1.73  2.8 ]\n",
      " [ 2.95  1.84]\n",
      " [ 2.61  2.92]\n",
      " [ 2.38  0.9 ]\n",
      " [ 2.3   3.33]\n",
      " [ 1.31  1.85]\n",
      " [ 1.56  3.85]\n",
      " [ 2.67  2.41]\n",
      " [ 1.23  2.54]\n",
      " [ 1.33  2.03]\n",
      " [ 1.36  2.68]\n",
      " [ 2.58  1.79]\n",
      " [ 2.4   0.91]\n",
      " [ 0.51  2.44]\n",
      " [ 2.17  2.64]\n",
      " [ 4.38  2.94]\n",
      " [ 1.09  3.12]\n",
      " [ 0.68  1.54]\n",
      " [ 1.93  3.71]\n",
      " [ 1.26  1.17]\n",
      " [ 1.9   1.34]\n",
      " [ 3.13  0.92]\n",
      " [ 0.85  1.56]\n",
      " [ 1.5   3.93]\n",
      " [ 2.95  2.09]\n",
      " [ 0.77  2.84]\n",
      " [ 1.    0.46]\n",
      " [ 3.19  2.32]\n",
      " [ 2.92  2.32]\n",
      " [ 2.86  1.35]\n",
      " [ 0.97  2.68]\n",
      " [ 1.2   1.31]\n",
      " [ 1.54  2.02]\n",
      " [ 1.65  0.63]\n",
      " [ 1.36 -0.22]\n",
      " [ 2.63  0.4 ]\n",
      " [ 0.9   2.05]\n",
      " [ 1.26  3.54]\n",
      " [ 0.71  2.27]\n",
      " [ 1.96  0.83]\n",
      " [ 2.52  1.83]\n",
      " [ 2.77  2.82]\n",
      " [ 4.16  3.34]] \n",
      "\n",
      "[0 0 0 0 0 0 0 0 0 0 0 0 0 0 0 0 0 0 0 0 0 0 0 0 0 0 0 0 0 0 0 0 0 0 0 0 0\n",
      " 0 0 0 0 0 0 0 0 0 0 0 0 0 1 1 1 1 1 1 1 1 1 1 1 1 1 1 1 1 1 1 1 1 1 1 1 1\n",
      " 1 1 1 1 1 1 1 1 1 1 1 1 1 1 1 1 1 1 1 1 1 1 1 1 1 1] \n",
      "\n",
      "Class 0 and 1 counts: [50 50] \n",
      "\n",
      "X dimension:  (100, 2) \n",
      "\n",
      "y dimension:  (100,) \n",
      "\n"
     ]
    }
   ],
   "source": [
    "# Assign X into a matrix of the first two columns and y into an array of type int from third column\n",
    "X, y = data[:, :2], data[:, 2]\n",
    "y = y.astype(np.int)\n",
    "print(X,'\\n')\n",
    "print(y,'\\n')\n",
    "print('Class 0 and 1 counts:', np.bincount(y),'\\n')\n",
    "print('X dimension: ', X.shape,'\\n')\n",
    "print('y dimension: ', y.shape,'\\n')"
   ]
  },
  {
   "cell_type": "code",
   "execution_count": 4,
   "metadata": {},
   "outputs": [
    {
     "data": {
      "image/png": "[encoded data removed]",
      "text/plain": [
       "<Figure size 432x288 with 1 Axes>"
      ]
     },
     "metadata": {},
     "output_type": "display_data"
    }
   ],
   "source": [
    "# Plot raw data\n",
    "plt.scatter(X[y==0, 0], X[y==0, 1], label='class 0', marker='o')\n",
    "plt.scatter(X[y==1, 0], X[y==1, 1], label='class 1', marker='s')\n",
    "plt.title('Raw Dataset')\n",
    "plt.xlabel('feature 1')\n",
    "plt.ylabel('feature 2')\n",
    "plt.legend()\n",
    "plt.show()"
   ]
  },
  {
   "cell_type": "code",
   "execution_count": 5,
   "metadata": {},
   "outputs": [
    {
     "name": "stdout",
     "output_type": "stream",
     "text": [
      "[ 0  1  2  3  4  5  6  7  8  9 10 11 12 13 14 15 16 17 18 19 20 21 22 23\n",
      " 24 25 26 27 28 29 30 31 32 33 34 35 36 37 38 39 40 41 42 43 44 45 46 47\n",
      " 48 49 50 51 52 53 54 55 56 57 58 59 60 61 62 63 64 65 66 67 68 69 70 71\n",
      " 72 73 74 75 76 77 78 79 80 81 82 83 84 85 86 87 88 89 90 91 92 93 94 95\n",
      " 96 97 98 99]\n",
      "[[ 0.39 -1.99]\n",
      " [ 0.51  2.44]\n",
      " [ 0.77  2.84]\n",
      " [-1.61 -1.28]\n",
      " [ 1.56  3.85]\n",
      " [ 0.77 -1.14]\n",
      " [-1.5   0.34]\n",
      " [ 3.88  0.65]\n",
      " [ 2.95  2.09]\n",
      " [-1.84 -1.13]\n",
      " [-3.45 -0.61]\n",
      " [ 1.23  2.54]\n",
      " [ 1.26  1.17]\n",
      " [ 2.38  0.9 ]\n",
      " [-3.96 -2.  ]\n",
      " [ 0.38  0.95]\n",
      " [ 1.9   1.34]\n",
      " [-2.92 -2.51]\n",
      " [ 1.14  3.91]\n",
      " [ 1.93  3.71]\n",
      " [-0.68 -1.52]\n",
      " [ 1.2   1.31]\n",
      " [-2.24 -2.12]\n",
      " [-2.59 -2.21]\n",
      " [-2.84 -4.12]\n",
      " [ 1.36 -0.22]\n",
      " [ 2.92  2.32]\n",
      " [-1.26 -2.9 ]\n",
      " [ 1.59  1.25]\n",
      " [-1.05 -3.85]\n",
      " [-4.09  1.03]\n",
      " [ 1.65  0.63]\n",
      " [-3.98 -1.05]\n",
      " [ 2.4   0.91]\n",
      " [ 3.19  2.32]\n",
      " [ 0.97  2.68]\n",
      " [ 0.71  2.27]\n",
      " [ 2.52  1.83]\n",
      " [ 1.31  1.85]\n",
      " [ 1.48 -3.74]\n",
      " [-3.17 -3.69]\n",
      " [ 1.54  2.02]\n",
      " [-1.14 -2.66]\n",
      " [ 2.61  2.92]\n",
      " [-0.33  1.44]\n",
      " [ 0.68  1.54]\n",
      " [-0.49 -2.74]\n",
      " [ 0.85  1.56]\n",
      " [ 0.45  0.36]\n",
      " [ 3.92  3.48]\n",
      " [-2.94 -4.47]\n",
      " [-2.42 -3.35]\n",
      " [ 0.73  2.97]\n",
      " [-2.26  0.01]\n",
      " [-0.63 -1.53]\n",
      " [ 2.77  2.82]\n",
      " [-2.64 -2.2 ]\n",
      " [-3.2  -0.22]\n",
      " [ 4.38  2.94]\n",
      " [-0.05 -1.95]\n",
      " [-1.48 -1.17]\n",
      " [ 1.26  3.54]\n",
      " [ 0.02 -0.02]\n",
      " [-1.64 -1.96]\n",
      " [-2.41 -2.31]\n",
      " [-5.27 -0.78]\n",
      " [ 2.95  1.84]\n",
      " [ 2.17  2.64]\n",
      " [ 2.67  2.41]\n",
      " [-0.37 -1.91]\n",
      " [-3.33 -0.44]\n",
      " [-2.97 -1.63]\n",
      " [-1.74 -1.1 ]\n",
      " [ 0.83  3.94]\n",
      " [-1.08 -1.23]\n",
      " [-1.69  0.8 ]\n",
      " [ 2.3   3.33]\n",
      " [ 0.9   2.05]\n",
      " [ 4.16  3.34]\n",
      " [-2.14 -1.62]\n",
      " [ 0.91 -3.07]\n",
      " [ 1.36  2.68]\n",
      " [ 3.87  2.91]\n",
      " [-1.52 -1.14]\n",
      " [ 2.58  1.79]\n",
      " [ 1.5   3.93]\n",
      " [-0.1  -3.43]\n",
      " [ 3.13  0.92]\n",
      " [ 1.96  0.83]\n",
      " [-2.95 -1.16]\n",
      " [-1.41 -0.33]\n",
      " [-1.45 -2.26]\n",
      " [ 1.09  3.12]\n",
      " [-1.2  -0.71]\n",
      " [ 2.86  1.35]\n",
      " [ 1.73  2.8 ]\n",
      " [ 1.    0.46]\n",
      " [-2.19 -1.48]\n",
      " [ 2.63  0.4 ]\n",
      " [ 1.33  2.03]]\n",
      "[0 1 1 0 1 0 0 1 1 0 0 1 1 1 0 0 1 0 1 1 0 1 0 0 0 1 1 0 1 0 0 1 0 1 1 1 1\n",
      " 1 1 0 0 1 0 1 0 1 0 1 0 1 0 0 1 0 0 1 0 0 1 0 0 1 0 0 0 0 1 1 1 0 0 0 0 1\n",
      " 0 0 1 1 1 0 0 1 1 0 1 1 0 1 1 0 0 0 1 0 1 1 1 0 1 1]\n"
     ]
    }
   ],
   "source": [
    "# Shuffle X and y together and train/test split\n",
    "shuffle_idx = np.arange(y.shape[0])\n",
    "print(shuffle_idx)\n",
    "\n",
    "shuffle_rng = np.random.RandomState(123)\n",
    "shuffle_rng.shuffle(shuffle_idx)\n",
    "\n",
    "X, y = X[shuffle_idx], y[shuffle_idx]\n",
    "print(X)\n",
    "print(y)\n",
    "\n",
    "# Split dataset into 70% training and 30% test data\n",
    "X_train, X_test = X[shuffle_idx[:70]], X[shuffle_idx[70:]]\n",
    "y_train, y_test = y[shuffle_idx[:70]], y[shuffle_idx[70:]]"
   ]
  },
  {
   "cell_type": "code",
   "execution_count": 6,
   "metadata": {},
   "outputs": [
    {
     "name": "stdout",
     "output_type": "stream",
     "text": [
      "Mean of X_train: [0. 0.]\n",
      "Standard deviation of X_train: [1. 1.]\n"
     ]
    }
   ],
   "source": [
    "# Standardize both training and test datasets\n",
    "mu, sigma = X_train.mean(axis=0), X_train.std(axis=0)\n",
    "X_train = (X_train - mu) / sigma\n",
    "X_test = (X_test - mu) / sigma\n",
    "\n",
    "# Verification of normalizing process X~N(0,1)\n",
    "print('Mean of X_train:',np.round(X_train.mean(axis=0),1))\n",
    "print('Standard deviation of X_train:',X_train.std(axis=0))"
   ]
  },
  {
   "cell_type": "code",
   "execution_count": 7,
   "metadata": {},
   "outputs": [
    {
     "data": {
      "image/png": "[encoded data removed]",
      "text/plain": [
       "<Figure size 432x288 with 1 Axes>"
      ]
     },
     "metadata": {},
     "output_type": "display_data"
    }
   ],
   "source": [
    "# Plot training dataset\n",
    "plt.scatter(X_train[y_train==0, 0], X_train[y_train==0, 1], label='class 0', marker='o')\n",
    "plt.scatter(X_train[y_train==1, 0], X_train[y_train==1, 1], label='class 1', marker='s')\n",
    "plt.title('Training Dataset')\n",
    "plt.xlabel('feature 1')\n",
    "plt.ylabel('feature 2')\n",
    "plt.legend()\n",
    "plt.show()"
   ]
  },
  {
   "cell_type": "code",
   "execution_count": 8,
   "metadata": {},
   "outputs": [
    {
     "data": {
      "image/png": "[encoded data removed]",
      "text/plain": [
       "<Figure size 432x288 with 1 Axes>"
      ]
     },
     "metadata": {},
     "output_type": "display_data"
    }
   ],
   "source": [
    "# Plot test dataset\n",
    "plt.scatter(X_test[y_test==0, 0], X_test[y_test==0, 1], label='class 0', marker='o')\n",
    "plt.scatter(X_test[y_test==1, 0], X_test[y_test==1, 1], label='class 1', marker='s')\n",
    "plt.title('Test Dataset')\n",
    "plt.xlabel('feature 1')\n",
    "plt.ylabel('feature 2')\n",
    "plt.legend()\n",
    "plt.show()"
   ]
  },
  {
   "cell_type": "markdown",
   "metadata": {},
   "source": [
    "<a id='2.'></a>\n",
    "## 2. Perceptron Implementation\n",
    "[TOC](#TOC)"
   ]
  },
  {
   "cell_type": "code",
   "execution_count": 9,
   "metadata": {},
   "outputs": [],
   "source": [
    "class Perceptron():\n",
    "    def __init__(self, num_features):\n",
    "        self.num_features = num_features\n",
    "        self.weights = np.zeros((num_features, 1), dtype=np.float) # Weights = number of features\n",
    "        self.bias = np.zeros(1, dtype=np.float)                    # Bias is a single value\n",
    "         \n",
    "    def onward(self, x):\n",
    "        net_inputs = np.dot(x, self.weights) + self.bias\n",
    "        predictions = np.where(net_inputs > 0., 1, 0)              \n",
    "        return predictions\n",
    "    \n",
    "    def backward(self, x, y):\n",
    "        predictions = self.onward(x)                              # Implement the prediction (Sign function)\n",
    "        errors = y - predictions                                   # Compute errors from outputs (Error function)\n",
    "        return errors\n",
    "    \n",
    "    def train(self, x, y, epochs):                                 # Training epoch iterations\n",
    "        for e in range(epochs):\n",
    "            for i in range(y.shape[0]):\n",
    "                errors = self.backward(x[i].reshape(1, self.num_features), y[i]).reshape(-1)\n",
    "                self.weights += (errors * x[i]).reshape(self.num_features, 1)\n",
    "                self.bias += errors\n",
    "                \n",
    "    def evaluate(self, x, y):\n",
    "        predictions = self.onward(x).reshape(-1)\n",
    "        accuracy = np.sum(predictions == y) / y.shape[0]\n",
    "        return accuracy"
   ]
  },
  {
   "cell_type": "code",
   "execution_count": 10,
   "metadata": {},
   "outputs": [
    {
     "name": "stdout",
     "output_type": "stream",
     "text": [
      "Model parameters:\n",
      "\n",
      "Weights: [[1.27340847]\n",
      " [1.34642288]] \n",
      "\n",
      "Bias: [-1.]\n"
     ]
    }
   ],
   "source": [
    "# Model Parameters: x = weights, b = biases\n",
    "p = Perceptron(num_features=2)\n",
    "p.train(X_train, y_train, epochs=5)\n",
    "\n",
    "print('Model parameters:\\n')\n",
    "print('Weights:', p.weights,'\\n')\n",
    "print('Bias:', p.bias)"
   ]
  },
  {
   "cell_type": "code",
   "execution_count": 11,
   "metadata": {},
   "outputs": [
    {
     "name": "stdout",
     "output_type": "stream",
     "text": [
      "Test set accuracy: 93.33%\n"
     ]
    }
   ],
   "source": [
    "# Implement evaluate function to test the accuracy of data\n",
    "acc = p.evaluate(X_test, y_test)\n",
    "print('Test set accuracy: %.2f%%' % (acc*100))"
   ]
  },
  {
   "cell_type": "code",
   "execution_count": 12,
   "metadata": {},
   "outputs": [
    {
     "data": {
      "image/png": "[encoded data removed]",
      "text/plain": [
       "<Figure size 504x216 with 2 Axes>"
      ]
     },
     "metadata": {},
     "output_type": "display_data"
    }
   ],
   "source": [
    "# Visualize both training and test datasets\n",
    "w = p.weights\n",
    "b = p.bias\n",
    "\n",
    "# Since x0*w0 + x1*w1 + b = 0, x1 = (-x0*w0 - b) / w1\n",
    "x0_min = -2\n",
    "x1_min = ((-(w[0] * x0_min) - b[0]) / w[1])\n",
    "\n",
    "x0_max = 2\n",
    "x1_max = ((-(w[0] * x0_max) - b[0]) / w[1])\n",
    "\n",
    "fig, ax = plt.subplots(1, 2, sharex=True, figsize=(7,3))\n",
    "\n",
    "# Plot the training data set (LHS)\n",
    "ax[0].plot([x0_min,x0_max], [x1_min, x1_max])\n",
    "ax[0].scatter(X_train[y_train==0, 0], X_train[y_train==0, 1], label='class 0', marker='o')\n",
    "ax[0].scatter(X_train[y_train==1, 0], X_train[y_train==1, 1], label='class 0', marker='o')\n",
    "\n",
    "# Plot the test data set (RHS)\n",
    "ax[1].plot([x0_min,x0_max], [x1_min, x1_max])\n",
    "ax[1].scatter(X_test[y_test==0, 0], X_test[y_test==0, 1], label='class 1', marker='s')\n",
    "ax[1].scatter(X_test[y_test==1, 0], X_test[y_test==1, 1], label='class 1', marker='s')\n",
    "\n",
    "ax[1].legend(loc='upper left')\n",
    "plt.show()"
   ]
  }
 ],
 "metadata": {
  "kernelspec": {
   "display_name": "Python 3",
   "language": "python",
   "name": "python3"
  },
  "language_info": {
   "codemirror_mode": {
    "name": "ipython",
    "version": 3
   },
   "file_extension": ".py",
   "mimetype": "text/x-python",
   "name": "python",
   "nbconvert_exporter": "python",
   "pygments_lexer": "ipython3",
   "version": "3.6.5"
  }
 },
 "nbformat": 4,
 "nbformat_minor": 2
}
